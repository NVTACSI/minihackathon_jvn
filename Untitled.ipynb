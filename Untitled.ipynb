{
 "cells": [
  {
   "cell_type": "code",
   "execution_count": 1,
   "metadata": {
    "collapsed": true
   },
   "outputs": [],
   "source": [
    "import os\n",
    "from collections import Counter\n",
    "import nltk\n",
    "import gensim  #for topic modelling\n",
    "from bs4 import BeautifulSoup #for extracting text \n",
    "import nltk # for text preprocessing\n",
    "import re \n",
    "import pandas as pd\n",
    "import numpy as np\n",
    "import sys\n",
    "reload(sys)\n",
    "sys.setdefaultencoding('utf8')\n",
    "from nltk.corpus import stopwords \n",
    "from nltk.stem.wordnet import WordNetLemmatizer\n",
    "import string\n",
    "import matplotlib \n",
    "\n",
    "%matplotlib inline\n",
    "pd.options.mode.chained_assignment = None\n",
    "pd.options.display.max_columns = 999\n",
    "matplotlib.rcParams['figure.figsize'] = (20,10)"
   ]
  },
  {
   "cell_type": "code",
   "execution_count": 2,
   "metadata": {
    "collapsed": true
   },
   "outputs": [],
   "source": [
    "path = './inaugural_speeches/'\n",
    "files = [path + fname for fname in os.listdir(path)]"
   ]
  },
  {
   "cell_type": "code",
   "execution_count": 3,
   "metadata": {
    "collapsed": true
   },
   "outputs": [],
   "source": [
    "data = []\n",
    "for fname in files:\n",
    "    with open(fname, 'r') as f:\n",
    "        lines = ' '.join(f.readlines())\n",
    "        data.append(lines)"
   ]
  },
  {
   "cell_type": "code",
   "execution_count": 4,
   "metadata": {
    "collapsed": true
   },
   "outputs": [],
   "source": [
    "stoplist = set([u'state', u'country', u'nation', u'people', u'constitution',u'duty', u'government', u'citizen', u'law', u'right', u'union',u'power', u'year', u'world', u'interest', u'purpose', u'justice',u'principle', u'it', u'time', u'question', u'executive', u'war',u'peace', u'life', u'institution', u'condition', u'effort', u'land',u'faith', u'place', u'office', u'today', u'thing', u'opinion',u'home', u'action', u'god', u'cause', u'century', u'strength',u'authority', u'danger', u'revenue', u'prosperity', u'subject',u'republic', u'generation', u'business', u'character'])"
   ]
  },
  {
   "cell_type": "code",
   "execution_count": 58,
   "metadata": {},
   "outputs": [],
   "source": [
    "stop = set(stopwords.words('english'))\n",
    "stop.update(stoplist)\n",
    "exclude = set(string.punctuation)\n",
    "lemma = WordNetLemmatizer()\n",
    "def clean(doc):\n",
    "    punc_free = ''.join(ch for ch in doc if ch not in exclude)\n",
    "    normalized = \" \".join(lemma.lemmatize(word) for word in punc_free.split())\n",
    "    doc_filter = \" \".join([word for word, pos in nltk.pos_tag(normalized.lower().split()) if 'NN' in pos ])\n",
    "    stop_free = \" \".join([i for i in doc_filter.split() if i not in stop])    \n",
    "    \n",
    "    return normalized"
   ]
  },
  {
   "cell_type": "code",
   "execution_count": 48,
   "metadata": {
    "collapsed": true
   },
   "outputs": [],
   "source": [
    "doc_clean = [clean(doc).split() for doc in data]"
   ]
  },
  {
   "cell_type": "code",
   "execution_count": 60,
   "metadata": {},
   "outputs": [
    {
     "data": {
      "text/plain": [
       "u'martin van fellowcitizens practice predecessor imposes obligation act trust avowal expression feeling charge example footstep men happiness calendar pillar republicthose independence wa others field battle intellect patriotism men position sense gratitude mark confidence consciousness inability consideration claim favor forbearance revolution existence period birth whilst reverence event age countryman kind hand fellowcitizens press path aid branch reliance patriotism intelligence kindness servant support providence confidence consolation source spring embarrassment tranquillity attribute parallel respect exception friendship end institutionsin present aggregate obligation sphere lesson history experience advantage position climate resource nature ha intelligence peoplewill avail nothing reference circumstance blessing framer eye statesman patriot source peculiar portion region sovereignty existence wa welfare happiness extent diversity liable sinister design size population wealth resource industry production harmony whole circumstance foundation concession compromise jealousy states rest rule representation fear scope legislation wa limit states appertain concern confederacy community provident forecast ha event result ha mark community number increase ha hand hand progress privilege individual valor fortitude apprehension u instance commerce ha value nature production difference ha arisen wealth resource portion spirit regard adherence ha council absent conduct experience implicit adherence conflict circumstance vicissitude lapse success experiment gratitude account happiness example fellowcitizens future prayer hope present ground delight mind belief perpetuity benefit countless america friend mankind proof element endurance failure wa latent dissolution wise theorist anticipate fate fear patriot sanguine hope instance experience struggle revolution wa belief taxation requisite debt expense cost murmur alacrity one burden honor welfare experience willingness end case emergency ha confidence representative stage imposing influence service president sentiment weight material u violence faction death party exasperation ha point virtue fortitude system value spirit discussion capacity selfgovernment willingness sense exhibition restraint exaction history states ardor sentiment progress tribunal case ha manner pain friend hope occurrence frequent population globe diffusion intelligence frequency violence patriotism sense mass fellowcitizens produce result assumption majesty pretext liberty latter landmark order occasion inviolability provision unfitness emergency friend source apprehension enemy hope promptness consideration result measure redress injury sacrifice contest energy difficulty event error confidence apprehension conflict energy season organization outset want doubt point ha experience aggression extension territory multiplication states increase population system wa conjecture member confederacy number anticipation none consequence influence height mankind respect source effect distance genius spirit variety amount production pursuit chain dependence circle benefit difficulty arose outset collision scheme construction embarrassment confidence safety knowledge succession ha evil operation result patriot reason ha function relation affair concern ha welfare vibration operation system source discord disaster slavery forefather delicacy forbearance spite sinister period tranquillity result evidence patriotism course evidence adherence embarrassment difficulty event reflection deviation spirit forbearance humanity violence passion feeling ha countryman honor trust refrain fellowcitizens election wa sentiment regard motive misrepresentation ha standard conduct path desire countryman election chair opponent attempt part congress slavery district columbia wish states determination interference states fellowcitizens fullness reason determination result majority states bill view sanction firm belief accordance spirit father experience ha expedient agitation wa stability instance apprehension timid hope wicked destruction scene excitement instance violence disregard consequence conduct ha indignation mass section devotion bond attempt agitation object understood affection system limit calm judgment vast body hand aim retrospect obstacle overcome expectation hope hostile fear timid doubt experience ha reply foreboding surmount circumstance outset control excitement philosophy none tireatening reason confidence stability conviction form spirit child blessing spot happiness spring equality desire adherence letter spirit instrument remembering work concession compromise object states protect provision direction matter concernment relate intercourse limit occasion exposition view policy suffrage countryman precision ability course policy ha rule conduct discretion light experience constituent friendship welfare relation term equivalent advantage intercourse openness sincerity object frankness dealing men disposition dispute community neutrality controversy valor resource aggression consciousness conduct security determination invasion punishment redress presence countryman solemn promise bring error commit trust predecessor task ability success counsel witness devotion welfare sentiment countryman confidence cheering approbation path wish evening desire fear look protection divine support solicit dispensation providence honor length day way way pleasantness path'"
      ]
     },
     "execution_count": 60,
     "metadata": {},
     "output_type": "execute_result"
    }
   ],
   "source": [
    "punc_free = ''.join(ch for ch in data[1] if ch not in exclude)\n",
    "normalized = \" \".join(lemma.lemmatize(word) for word in punc_free.split())\n",
    "doc_filter = \" \".join([word for word, pos in nltk.pos_tag(normalized.lower().split()) if 'NN' in pos ])\n",
    "stop_free = \" \".join([i for i in doc_filter.split() if i not in stop]) \n",
    "stop_free"
   ]
  },
  {
   "cell_type": "code",
   "execution_count": 8,
   "metadata": {},
   "outputs": [
    {
     "data": {
      "text/plain": [
       "<matplotlib.axes._subplots.AxesSubplot at 0x7fb6c57be390>"
      ]
     },
     "execution_count": 8,
     "metadata": {},
     "output_type": "execute_result"
    },
    {
     "data": {
      "image/png": "[encoded data removed]",
      "text/plain": [
       "<matplotlib.figure.Figure at 0x7fb70ea1a1d0>"
      ]
     },
     "metadata": {},
     "output_type": "display_data"
    }
   ],
   "source": [
    "pos = [pos for doc in data for word, pos in nltk.pos_tag(doc.lower().split())]\n",
    "pos = pd.Series(pos)\n",
    "pos.value_counts().head(50).plot.bar()"
   ]
  },
  {
   "cell_type": "code",
   "execution_count": 9,
   "metadata": {},
   "outputs": [
    {
     "data": {
      "text/plain": [
       "<matplotlib.axes._subplots.AxesSubplot at 0x7fb6c5296390>"
      ]
     },
     "execution_count": 9,
     "metadata": {},
     "output_type": "execute_result"
    },
    {
     "data": {
      "image/png": "[encoded data removed]",
      "text/plain": [
       "<matplotlib.figure.Figure at 0x7fb6c5241a90>"
      ]
     },
     "metadata": {},
     "output_type": "display_data"
    }
   ],
   "source": [
    "all_tokens = [x for y in doc_clean for x in y]\n",
    "all_tokens = pd.Series(all_tokens)\n",
    "all_tokens.value_counts().head(50).plot.bar()"
   ]
  },
  {
   "cell_type": "code",
   "execution_count": 10,
   "metadata": {},
   "outputs": [
    {
     "data": {
      "text/plain": [
       "array([u'state', u'nation', u'people', u'government', u'freedom',\n",
       "       u'citizen', u'law', u'country', u'right', u'power', u'men', u'year',\n",
       "       u'world', u'america', u'spirit', u'interest', u'liberty', u'party',\n",
       "       u'part', u'principle', u'congress', u'policy', u'hope', u'day',\n",
       "       u'duty', u'time', u'it', u'force', u'administration', u'system',\n",
       "       u'man', u'history', u'service', u'hand', u'way', u'work',\n",
       "       u'responsibility', u'confidence', u'war', u'peace', u'life',\n",
       "       u'progress', u'president', u'institution', u'purpose', u'thing',\n",
       "       u'others', u'future', u'change', u'american'], dtype=object)"
      ]
     },
     "execution_count": 10,
     "metadata": {},
     "output_type": "execute_result"
    }
   ],
   "source": [
    "all_tokens.value_counts().head(50).index.values"
   ]
  },
  {
   "cell_type": "code",
   "execution_count": 11,
   "metadata": {},
   "outputs": [
    {
     "data": {
      "text/plain": [
       "<matplotlib.axes._subplots.AxesSubplot at 0x7fb6c50c4250>"
      ]
     },
     "execution_count": 11,
     "metadata": {},
     "output_type": "execute_result"
    },
    {
     "data": {
      "image/png": "[encoded data removed]",
      "text/plain": [
       "<matplotlib.figure.Figure at 0x7fb6c5102310>"
      ]
     },
     "metadata": {},
     "output_type": "display_data"
    }
   ],
   "source": [
    "all_tokens.value_counts().hist(bins=100)"
   ]
  },
  {
   "cell_type": "code",
   "execution_count": 12,
   "metadata": {},
   "outputs": [
    {
     "data": {
      "text/plain": [
       "1      2055\n",
       "2       632\n",
       "3       302\n",
       "4       226\n",
       "5       141\n",
       "6       111\n",
       "7       110\n",
       "8        62\n",
       "9        62\n",
       "10       56\n",
       "12       39\n",
       "11       37\n",
       "13       32\n",
       "16       29\n",
       "15       27\n",
       "19       26\n",
       "14       22\n",
       "17       20\n",
       "18       18\n",
       "25       16\n",
       "23       14\n",
       "34       14\n",
       "26       14\n",
       "20       14\n",
       "21       14\n",
       "32       13\n",
       "27       12\n",
       "24       11\n",
       "38       11\n",
       "40       10\n",
       "       ... \n",
       "72        1\n",
       "229       1\n",
       "57        1\n",
       "65        1\n",
       "91        1\n",
       "67        1\n",
       "63        1\n",
       "59        1\n",
       "47        1\n",
       "131       1\n",
       "162       1\n",
       "154       1\n",
       "142       1\n",
       "126       1\n",
       "118       1\n",
       "114       1\n",
       "110       1\n",
       "102       1\n",
       "86        1\n",
       "54        1\n",
       "187       1\n",
       "341       1\n",
       "169       1\n",
       "157       1\n",
       "137       1\n",
       "133       1\n",
       "121       1\n",
       "113       1\n",
       "85        1\n",
       "239       1\n",
       "Length: 102, dtype: int64"
      ]
     },
     "execution_count": 12,
     "metadata": {},
     "output_type": "execute_result"
    }
   ],
   "source": [
    "all_tokens.value_counts().value_counts()"
   ]
  },
  {
   "cell_type": "code",
   "execution_count": 50,
   "metadata": {
    "collapsed": true
   },
   "outputs": [],
   "source": [
    "#stemmer = nltk.stem.PorterStemmer()\n",
    "#questions_stemmed = [[stemmer.stem(token) for token in tokens] for tokens in all_tokens]\n",
    "questions_stemmed = doc_clean"
   ]
  },
  {
   "cell_type": "code",
   "execution_count": 53,
   "metadata": {},
   "outputs": [
    {
     "data": {
      "text/plain": [
       "u'martin van fellowcitizens practice predecessor obligation act trust avowal principle expression feeling charge example footstep men superior happiness calendar pillar republicthose independence others field battle intellect patriotism institution men position sense gratitude mark country confidence consciousness inability duty consideration claim favor forbearance revolution existence period birth whilst reverence event age countryman action kind hand fellowcitizens circumstance path aid branch reliance patriotism intelligence kindness servant support providence confidence consolation source spring embarrassment tranquillity attribute parallel respect exception friendship end institutionsin present aggregate obligation sphere thing lesson history experience position climate resource nature intelligence peoplewill nothing institution reference circumstance blessing framer eye statesman patriot source habit opinion institution portion region sovereignty existence welfare happiness extent diversity interest sinister design size population wealth resource industry production institution harmony whole circumstance foundation principle concession compromise jealousy state rest rule representation fear scope legislation interest limit state subject concern confederacy intercourse community nation provident forecast event result institution mark community number increase hand hand progress privilege individual valor fortitude apprehension instance commerce remotest value nature production difference wealth resource portion spirit regard adherence compact council absent conduct experience implicit adherence principle conflict circumstance vicissitude lapse year success experiment gratitude account happiness example fellowcitizens future prayer hope ground delight mind belief perpetuity institution principle benefit generation america friend mankind proof element endurance year failure latent cause dissolution wise theorist fate republic fear patriot hope foreboding instance experience struggle revolution belief taxation requisite debt expense cost war murmur alacrity one burden institution honor welfare experience willingness end case emergency confidence representative stage influence service president sentiment weight material violence faction death year party exasperation point virtue fortitude system value spirit discussion capacity selfgovernment willingness sense exhibition country restraint exaction history state ardor sentiment progress tribunal case manner pain friend hope overthrow occurrence population globe diffusion intelligence frequency violence patriotism sense mass fellowcitizens produce result assumption majesty pretext liberty latter landmark order occasion inviolability provision unfitness institution emergency friend source apprehension enemy hope promptness government consideration result measure redress injury sacrifice contest energy difficulty event error confidence apprehension conflict energy season right organization nation outset want doubt point experience aggression extension territory multiplication state increase population system boundary conjecture member confederacy number cause anticipation none consequence influence height mankind respect ancient limit source effect distance genius spirit institution variety amount interest production pursuit chain dependence circle benefit power authority difficulty arose outset collision scheme construction embarrassment confidence safety knowledge succession evil operation institution result patriot reason function relation affair concern interest welfare vibration operation system institution source discord disaster slavery forefather delicacy forbearance spite sinister period tranquillity result evidence patriotism course evidence adherence embarrassment difficulty event reflection deviation spirit forbearance humanity violence passion feeling countryman honor trust refrain fellowcitizens dictate election sentiment regard motive misrepresentation standard conduct path desire countryman election chair opponent attempt part congress slavery district columbia wish state determination interference state fellowcitizens fullness reason determination result majority state bill view sanction opinion firm belief accordance spirit father experience expedient agitation stability institution instance apprehension timid hope wicked destruction scene excitement instance violence disregard consequence conduct individual indignation mass section devotion bond principle attempt agitation object understood affection system limit calm judgment vast body hand institution retrospect obstacle danger expectation hope fear timid doubt experience reply foreboding surmount circumstance outset control excitement time danger philosophy none tireatening reason confidence stability institution conviction form spirit child blessing generation spot happiness spring equality right desire adherence letter spirit instrument remembering work concession compromise object state protect provision direction matter concernment relate intercourse nation limit occasion exposition view question policy suffrage countryman precision opinion subject opinion ability course policy rule conduct discretion light experience opinion constituent friendship nation condition welfare principle alliance adverse relation term equivalent advantage intercourse openness sincerity object frankness dealing nation men disposition dispute country community neutrality controversy valor resource aggression consciousness conduct security determination invasion right punishment redress presence countryman solemn promise bring institution error trust predecessor task ability success counsel witness devotion country welfare sentiment countryman confidence cheering approbation path wish evening desire fear kindness look protection divine support solicit dispensation providence honor length day way way pleasantness path'"
      ]
     },
     "execution_count": 53,
     "metadata": {},
     "output_type": "execute_result"
    }
   ],
   "source": [
    "clean(data[1])"
   ]
  },
  {
   "cell_type": "code",
   "execution_count": 61,
   "metadata": {
    "collapsed": true
   },
   "outputs": [],
   "source": [
    "word_counts = pd.Series(np.concatenate(questions_stemmed)).value_counts()\n",
    "singular_words = set(word_counts[pd.Series(np.concatenate(questions_stemmed)).value_counts() <= 3].index)"
   ]
  },
  {
   "cell_type": "code",
   "execution_count": 62,
   "metadata": {},
   "outputs": [
    {
     "data": {
      "text/plain": [
       "2736"
      ]
     },
     "execution_count": 62,
     "metadata": {},
     "output_type": "execute_result"
    }
   ],
   "source": [
    "len(singular_words)"
   ]
  },
  {
   "cell_type": "code",
   "execution_count": 63,
   "metadata": {
    "collapsed": true
   },
   "outputs": [],
   "source": [
    "questions_stemmed = [[word for word in title if word not in singular_words] for title in questions_stemmed]"
   ]
  },
  {
   "cell_type": "code",
   "execution_count": 64,
   "metadata": {
    "collapsed": true
   },
   "outputs": [],
   "source": [
    "non_empty_indices = [i for i in range(len(questions_stemmed)) if len(questions_stemmed[i]) > 0]\n",
    "questions_stemmed = np.asarray(questions_stemmed)[non_empty_indices]"
   ]
  },
  {
   "cell_type": "code",
   "execution_count": 65,
   "metadata": {
    "collapsed": true
   },
   "outputs": [],
   "source": [
    "dictionary = gensim.corpora.Dictionary(questions_stemmed)"
   ]
  },
  {
   "cell_type": "code",
   "execution_count": 66,
   "metadata": {
    "collapsed": true
   },
   "outputs": [],
   "source": [
    "corpus = [dictionary.doc2bow(text) for text in questions_stemmed]\n"
   ]
  },
  {
   "cell_type": "code",
   "execution_count": 67,
   "metadata": {
    "collapsed": true
   },
   "outputs": [],
   "source": [
    "model =  gensim.models.ldamodel.LdaModel\n",
    "ldamodel = model(corpus, num_topics=50, id2word = dictionary, passes=50)"
   ]
  },
  {
   "cell_type": "code",
   "execution_count": 21,
   "metadata": {},
   "outputs": [
    {
     "data": {
      "text/plain": [
       "[(4,\n",
       "  u'0.017*\"state\" + 0.015*\"people\" + 0.015*\"nation\" + 0.012*\"congress\" + 0.010*\"law\" + 0.009*\"government\" + 0.009*\"year\" + 0.007*\"administration\" + 0.007*\"party\" + 0.007*\"liberty\"'),\n",
       " (6,\n",
       "  u'0.023*\"nation\" + 0.019*\"spirit\" + 0.016*\"dream\" + 0.013*\"freedom\" + 0.010*\"president\" + 0.010*\"right\" + 0.010*\"society\" + 0.010*\"time\" + 0.010*\"respect\" + 0.007*\"commitment\"'),\n",
       " (1,\n",
       "  u'0.001*\"nation\" + 0.001*\"state\" + 0.001*\"country\" + 0.001*\"right\" + 0.001*\"government\" + 0.001*\"principle\" + 0.001*\"freedom\" + 0.001*\"interest\" + 0.001*\"people\" + 0.001*\"spirit\"')]"
      ]
     },
     "execution_count": 21,
     "metadata": {},
     "output_type": "execute_result"
    }
   ],
   "source": [
    "ldamodel.print_topics(num_topics=3, num_words=10)"
   ]
  },
  {
   "cell_type": "code",
   "execution_count": 72,
   "metadata": {},
   "outputs": [
    {
     "data": {
      "text/plain": [
       "[(34,\n",
       "  u'0.001*\"state\" + 0.001*\"fellowcitizens\" + 0.001*\"nation\" + 0.001*\"principle\" + 0.001*\"reason\" + 0.001*\"limit\" + 0.001*\"interest\" + 0.001*\"right\" + 0.001*\"duty\" + 0.001*\"power\"'),\n",
       " (45,\n",
       "  u'0.104*\"leadership\" + 0.070*\"money\" + 0.070*\"measure\" + 0.063*\"profit\" + 0.063*\"discipline\" + 0.060*\"emergency\" + 0.045*\"recovery\" + 0.044*\"use\" + 0.027*\"trade\" + 0.016*\"note\"'),\n",
       " (3,\n",
       "  u'0.028*\"american\" + 0.025*\"america\" + 0.021*\"idea\" + 0.018*\"change\" + 0.014*\"responsibility\" + 0.014*\"service\" + 0.014*\"democracy\" + 0.014*\"child\" + 0.014*\"work\" + 0.014*\"challenge\"'),\n",
       " (4,\n",
       "  u'0.001*\"state\" + 0.001*\"law\" + 0.001*\"year\" + 0.001*\"debt\" + 0.001*\"determination\" + 0.001*\"nation\" + 0.001*\"freedom\" + 0.001*\"dollar\" + 0.001*\"men\" + 0.001*\"right\"'),\n",
       " (9,\n",
       "  u'0.001*\"state\" + 0.001*\"party\" + 0.001*\"policy\" + 0.001*\"power\" + 0.001*\"case\" + 0.001*\"part\" + 0.001*\"right\" + 0.001*\"administration\" + 0.001*\"law\" + 0.001*\"force\"'),\n",
       " (13,\n",
       "  u'0.001*\"state\" + 0.001*\"nation\" + 0.001*\"liberty\" + 0.001*\"civilization\" + 0.001*\"policy\" + 0.001*\"america\" + 0.001*\"trade\" + 0.001*\"people\" + 0.001*\"relationship\" + 0.001*\"order\"'),\n",
       " (26,\n",
       "  u'0.001*\"state\" + 0.001*\"america\" + 0.001*\"nation\" + 0.001*\"policy\" + 0.001*\"spirit\" + 0.001*\"duty\" + 0.001*\"confidence\" + 0.001*\"freedom\" + 0.001*\"progress\" + 0.001*\"civilization\"'),\n",
       " (36,\n",
       "  u'0.001*\"state\" + 0.001*\"interest\" + 0.001*\"party\" + 0.001*\"part\" + 0.001*\"power\" + 0.001*\"law\" + 0.001*\"case\" + 0.001*\"right\" + 0.001*\"citizen\" + 0.001*\"system\"'),\n",
       " (39,\n",
       "  u'0.001*\"nation\" + 0.001*\"state\" + 0.001*\"people\" + 0.001*\"force\" + 0.001*\"law\" + 0.001*\"freedom\" + 0.001*\"party\" + 0.001*\"service\" + 0.001*\"progress\" + 0.001*\"men\"'),\n",
       " (27,\n",
       "  u'0.001*\"state\" + 0.001*\"part\" + 0.001*\"spirit\" + 0.001*\"party\" + 0.001*\"right\" + 0.001*\"power\" + 0.001*\"citizen\" + 0.001*\"interest\" + 0.001*\"liberty\" + 0.001*\"effect\"')]"
      ]
     },
     "execution_count": 72,
     "metadata": {},
     "output_type": "execute_result"
    }
   ],
   "source": [
    "ldamodel.show_topics()"
   ]
  },
  {
   "cell_type": "code",
   "execution_count": null,
   "metadata": {
    "collapsed": true
   },
   "outputs": [],
   "source": []
  }
 ],
 "metadata": {
  "kernelspec": {
   "display_name": "Python 2",
   "language": "python",
   "name": "python2"
  },
  "language_info": {
   "codemirror_mode": {
    "name": "ipython",
    "version": 2
   },
   "file_extension": ".py",
   "mimetype": "text/x-python",
   "name": "python",
   "nbconvert_exporter": "python",
   "pygments_lexer": "ipython2",
   "version": "2.7.13"
  }
 },
 "nbformat": 4,
 "nbformat_minor": 1
}
